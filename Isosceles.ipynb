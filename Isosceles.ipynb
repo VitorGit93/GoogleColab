{
  "nbformat": 4,
  "nbformat_minor": 0,
  "metadata": {
    "colab": {
      "provenance": [],
      "authorship_tag": "ABX9TyMCZB3+u+XLVM/fPTVW7Xn/",
      "include_colab_link": true
    },
    "kernelspec": {
      "name": "python3",
      "display_name": "Python 3"
    },
    "language_info": {
      "name": "python"
    }
  },
  "cells": [
    {
      "cell_type": "markdown",
      "metadata": {
        "id": "view-in-github",
        "colab_type": "text"
      },
      "source": [
        "<a href=\"https://colab.research.google.com/github/VitorGit93/GoogleColab/blob/main/Isosceles.ipynb\" target=\"_parent\"><img src=\"https://colab.research.google.com/assets/colab-badge.svg\" alt=\"Open In Colab\"/></a>"
      ]
    },
    {
      "cell_type": "code",
      "execution_count": null,
      "metadata": {
        "id": "52bjo2JEMpVJ"
      },
      "outputs": [],
      "source": [
        "N = int(input().strip())\n",
        "colunas = [int(x) for x in input().strip().split(' ')]\n",
        "\n",
        "esquerda, direita = [0 for _ in range(N)], [0 for _ in range(N)]\n",
        "\n",
        "esquerda[0] = 1\n",
        "for i in range(1, N):\n",
        "    esquerda[i] = min(colunas[i], esquerda[i - 1] + 1)\n",
        "\n",
        "direita[N - 1] = 1\n",
        "for i in range(N - 2, -1, -1):\n",
        "    direita[i] = min(colunas[i], direita[i + 1] + 1)\n",
        "\n",
        "print(max([min(esquerda[i], direita[i]) for i in range(N)]))"
      ]
    }
  ]
}